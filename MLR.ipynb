{
 "cells": [
  {
   "cell_type": "code",
   "execution_count": null,
   "metadata": {
    "id": "OnurGdZih9Cu"
   },
   "outputs": [],
   "source": [
    "import pandas as pd\n",
    "import numpy as np\n",
    "import matplotlib.pyplot as plt\n",
    "data = pd.read_csv(\"/content/ALL.csv\")\n",
    "data.head()"
   ]
  },
  {
   "cell_type": "code",
   "execution_count": null,
   "metadata": {
    "id": "tCNXXONsiow2"
   },
   "outputs": [],
   "source": [
    "data.corr(method ='pearson')"
   ]
  },
  {
   "cell_type": "code",
   "execution_count": null,
   "metadata": {
    "id": "bjEuDNDGjJKh"
   },
   "outputs": [],
   "source": [
    "data.iloc[:,[1,2,3,4,5,7,8,9,10,11,12,13]].head(2)"
   ]
  },
  {
   "cell_type": "code",
   "execution_count": null,
   "metadata": {
    "id": "bKKCWJ6vM0uw"
   },
   "outputs": [],
   "source": [
    "x = np.array(data.iloc[:,[1,2,3,4,5,7,8,9,10,11,12,13]])\n",
    "x[:3]"
   ]
  },
  {
   "cell_type": "code",
   "execution_count": null,
   "metadata": {
    "colab": {
     "base_uri": "https://localhost:8080/"
    },
    "id": "tRyQtg-FkRaV",
    "outputId": "6f9acf9d-d727-4d30-90d3-05ef9393b8b0"
   },
   "outputs": [
    {
     "data": {
      "text/plain": [
       "0    39.556713\n",
       "1    20.563726\n",
       "2    36.543621\n",
       "Name: Output, dtype: float64"
      ]
     },
     "execution_count": 17,
     "metadata": {},
     "output_type": "execute_result"
    }
   ],
   "source": [
    "y = data.iloc[:,0]\n",
    "y[:3]"
   ]
  },
  {
   "cell_type": "code",
   "execution_count": null,
   "metadata": {
    "id": "Jgj1vOC5kgmC"
   },
   "outputs": [],
   "source": [
    "from sklearn.model_selection import train_test_split\n",
    "from sklearn.linear_model import LinearRegression\n",
    "from sklearn.metrics import r2_score\n",
    "score = []\n",
    "for i in range(100000):\n",
    "  xtrain,xtest,ytrain,ytest = train_test_split(x,y,train_size=0.8, random_state = i)\n",
    "  model = LinearRegression()\n",
    "  model.fit(xtrain,ytrain)\n",
    "  ypred = model.predict(xtest)\n",
    "  r2 = r2_score(ytest,ypred)\n",
    "  score.append(r2)"
   ]
  },
  {
   "cell_type": "code",
   "execution_count": null,
   "metadata": {
    "colab": {
     "base_uri": "https://localhost:8080/"
    },
    "id": "uVQYqS6pkouM",
    "outputId": "fbecf3eb-8f66-45e7-e08d-d2067b165583"
   },
   "outputs": [
    {
     "data": {
      "text/plain": [
       "0.9359659583442488"
      ]
     },
     "execution_count": 13,
     "metadata": {},
     "output_type": "execute_result"
    }
   ],
   "source": [
    "np.max(score)"
   ]
  },
  {
   "cell_type": "code",
   "execution_count": null,
   "metadata": {
    "colab": {
     "base_uri": "https://localhost:8080/"
    },
    "id": "QG4es4m7lcXa",
    "outputId": "bc6f3a36-c707-404d-ab98-1813b2aef016"
   },
   "outputs": [
    {
     "data": {
      "text/plain": [
       "91701"
      ]
     },
     "execution_count": 14,
     "metadata": {},
     "output_type": "execute_result"
    }
   ],
   "source": [
    "np.argmax(score)"
   ]
  },
  {
   "cell_type": "code",
   "execution_count": null,
   "metadata": {
    "colab": {
     "base_uri": "https://localhost:8080/",
     "height": 391
    },
    "id": "t3c7eTsEljy1",
    "outputId": "9c4ccbb5-3837-4c25-ff82-8658a83bf371"
   },
   "outputs": [
    {
     "data": {
      "image/png": "[encoded data removed]",
      "text/plain": [
       "<Figure size 720x432 with 1 Axes>"
      ]
     },
     "metadata": {
      "needs_background": "light"
     },
     "output_type": "display_data"
    },
    {
     "name": "stdout",
     "output_type": "stream",
     "text": [
      "Random state is 91701 and max R2 is 93.59659583442487\n"
     ]
    }
   ],
   "source": [
    "### Line of Regression for Testing Samples\n",
    "xtrain,xtest,ytrain,ytest = train_test_split(x,y,train_size=0.8, random_state = 91701)\n",
    "model = LinearRegression()\n",
    "model.fit(xtrain,ytrain)\n",
    "ypred = model.predict(xtest)\n",
    "plt.figure(figsize=(10,6))\n",
    "plt.scatter(ytest,ypred,color=\"Blue\",label=\"Predicted Data\",s=100)\n",
    "\n",
    "#find line of best fit\n",
    "a, b = np.polyfit(ytest, ypred, 1)\n",
    "\n",
    "#add line of best fit to plot\n",
    "plt.plot(ytest, a*ytest+b, color ='r')\n",
    "plt.legend()\n",
    "plt.show()\n",
    "\n",
    "c = model.intercept_\n",
    "### Slope\n",
    "# m = model.coef_\n",
    "# print(m,c)\n",
    "print(\"Random state is \"+str(np.argmax(score))+\" and max R2 is \"+ str(np.max(score)*100))"
   ]
  }
 ],
 "metadata": {
  "colab": {
   "provenance": []
  },
  "kernelspec": {
   "display_name": "Python 3 (ipykernel)",
   "language": "python",
   "name": "python3"
  },
  "language_info": {
   "codemirror_mode": {
    "name": "ipython",
    "version": 3
   },
   "file_extension": ".py",
   "mimetype": "text/x-python",
   "name": "python",
   "nbconvert_exporter": "python",
   "pygments_lexer": "ipython3",
   "version": "3.9.13"
  }
 },
 "nbformat": 4,
 "nbformat_minor": 1
}
