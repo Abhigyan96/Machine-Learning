{
 "cells": [
  {
   "cell_type": "code",
   "execution_count": null,
   "metadata": {
    "id": "N5ySh0tZDmBB"
   },
   "outputs": [],
   "source": [
    "import pandas as pd\n",
    "import numpy as np\n",
    "import matplotlib.pyplot as plt"
   ]
  },
  {
   "cell_type": "code",
   "execution_count": null,
   "metadata": {
    "colab": {
     "base_uri": "https://localhost:8080/",
     "height": 112
    },
    "id": "SQ_cxzIoECTD",
    "outputId": "543e7e46-089e-48d5-b0ab-10a01a7efaa8"
   },
   "outputs": [],
   "source": [
    "df = pd.read_csv(\"/content/ALL_DCF.csv\")\n",
    "df.head(2)"
   ]
  },
  {
   "cell_type": "code",
   "execution_count": null,
   "metadata": {
    "id": "hw0447mtENnk"
   },
   "outputs": [],
   "source": [
    "X = df.drop('SM', axis=1)\n",
    "y = df['SM']\n",
    "print(X[:2])\n",
    "print(y[:2])"
   ]
  },
  {
   "cell_type": "code",
   "execution_count": null,
   "metadata": {
    "colab": {
     "base_uri": "https://localhost:8080/"
    },
    "id": "GJ0216p8ETc0",
    "outputId": "b0a80ddf-f7fa-4959-9e7c-8c15a941fbee"
   },
   "outputs": [],
   "source": [
    "print('Shape of X = ', X.shape)\n",
    "print('Shape of y = ', y.shape)"
   ]
  },
  {
   "cell_type": "code",
   "execution_count": null,
   "metadata": {
    "id": "AhVZXk6UFPtP"
   },
   "outputs": [],
   "source": [
    "score_1 = []\n",
    "for i in range(1000):\n",
    "  from sklearn.model_selection import train_test_split\n",
    "  X_train, X_test, y_train, y_test = train_test_split(X, y, test_size=0.2,random_state= i)\n",
    "\n",
    "  from sklearn.ensemble import RandomForestRegressor\n",
    "  regressor = RandomForestRegressor(n_estimators = 100, criterion = 'mse',random_state= i)\n",
    "  regressor.fit(X_train, y_train)\n",
    "  a = regressor.score(X_test, y_test)\n",
    "  score_1.append(a)"
   ]
  },
  {
   "cell_type": "code",
   "execution_count": null,
   "metadata": {
    "colab": {
     "base_uri": "https://localhost:8080/"
    },
    "id": "O6iiBZRmHEtq",
    "outputId": "1911eb8a-121b-44ac-982d-a0751766b87d"
   },
   "outputs": [],
   "source": [
    "print(\"X_test shape : \",X_test.shape,\"y_test shape : \",y_test.shape)"
   ]
  },
  {
   "cell_type": "code",
   "execution_count": null,
   "metadata": {
    "colab": {
     "base_uri": "https://localhost:8080/"
    },
    "id": "s65ShpHNHFw8",
    "outputId": "4a1a6f27-1b3a-4001-a18b-a6769bb5abbe"
   },
   "outputs": [],
   "source": [
    "np.max(score_1)"
   ]
  },
  {
   "cell_type": "code",
   "execution_count": null,
   "metadata": {
    "colab": {
     "base_uri": "https://localhost:8080/"
    },
    "id": "U6GwL232HJhI",
    "outputId": "51409c8c-d8dd-43ab-88ce-ae10d61ab50f"
   },
   "outputs": [],
   "source": [
    "np.argmax(score_1)"
   ]
  },
  {
   "cell_type": "code",
   "execution_count": null,
   "metadata": {
    "colab": {
     "base_uri": "https://localhost:8080/"
    },
    "id": "aoD8cXcmH6P7",
    "outputId": "e3e39dc8-e97e-4555-e9b3-8ead66b03617"
   },
   "outputs": [],
   "source": [
    "from sklearn.model_selection import train_test_split\n",
    "from sklearn.ensemble import RandomForestRegressor\n",
    "X_train, X_test, y_train, y_test = train_test_split(X, y, test_size= 0.2,random_state = 50)\n",
    "regressor = RandomForestRegressor(n_estimators = 100, criterion = 'mse', random_state= 50)\n",
    "regressor.fit(X_train, y_train)\n",
    "a = regressor.score(X_test, y_test)\n",
    "print(a)"
   ]
  },
  {
   "cell_type": "code",
   "execution_count": null,
   "metadata": {
    "id": "8BQkgq9_zTYS"
   },
   "outputs": [],
   "source": [
    "y_pred = regressor.predict(X_test)\n",
    "from sklearn.metrics import r2_score\n",
    "r2 = r2_score(y_test,y_pred)"
   ]
  },
  {
   "cell_type": "code",
   "execution_count": null,
   "metadata": {
    "id": "0OyWq-Sg0MJg"
   },
   "outputs": [],
   "source": [
    "from sklearn.metrics import mean_squared_error\n",
    "mse = mean_squared_error(y_test, y_pred)\n",
    "rmse = np.sqrt(mse)\n"
   ]
  },
  {
   "cell_type": "code",
   "execution_count": null,
   "metadata": {
    "id": "rXpXhk810TQ1"
   },
   "outputs": [],
   "source": [
    "from sklearn.metrics import mean_absolute_error\n",
    "mae = mean_absolute_error(y_test, y_pred)"
   ]
  },
  {
   "cell_type": "code",
   "execution_count": null,
   "metadata": {
    "colab": {
     "base_uri": "https://localhost:8080/"
    },
    "id": "Mxm5SiGmF3iA",
    "outputId": "bb5cfbd4-8fa7-4f7b-eee5-caf600bf2b60"
   },
   "outputs": [],
   "source": [
    "regressor.get_params()"
   ]
  },
  {
   "cell_type": "code",
   "execution_count": null,
   "metadata": {
    "colab": {
     "base_uri": "https://localhost:8080/"
    },
    "id": "STJXLc_JYZjg",
    "outputId": "3ef9cc72-2a92-499c-e50d-3a62bd75aaa6"
   },
   "outputs": [],
   "source": [
    "print(\"R2 = \"+str(r2))\n",
    "print('MSE = '+ str(mse))\n",
    "print('RMSE = '+ str(rmse))\n",
    "print(\"MAE = \"+str(mae))"
   ]
  },
  {
   "cell_type": "code",
   "execution_count": null,
   "metadata": {
    "colab": {
     "base_uri": "https://localhost:8080/",
     "height": 374
    },
    "id": "Mnv2Fy_tz9nx",
    "outputId": "2eb1274a-6187-4678-e3eb-b37eddf83c5a"
   },
   "outputs": [],
   "source": [
    "plt.figure(figsize=(10,6))\n",
    "\n",
    "#find line of best fit\n",
    "a, b = np.polyfit(y_test, y_pred, 1)\n",
    "\n",
    "#add points to plot\n",
    "plt.scatter(y_test,y_pred,color=\"Blue\",label=\"Predicted Data\",s=100)\n",
    "\n",
    "#add line of best fit to plot\n",
    "plt.plot(y_test, a*y_test+b, color ='r')\n",
    "plt.legend()\n",
    "plt.show()"
   ]
  }
 ],
 "metadata": {
  "accelerator": "GPU",
  "colab": {
   "machine_shape": "hm",
   "provenance": []
  },
  "kernelspec": {
   "display_name": "Python 3 (ipykernel)",
   "language": "python",
   "name": "python3"
  },
  "language_info": {
   "codemirror_mode": {
    "name": "ipython",
    "version": 3
   },
   "file_extension": ".py",
   "mimetype": "text/x-python",
   "name": "python",
   "nbconvert_exporter": "python",
   "pygments_lexer": "ipython3",
   "version": "3.9.13"
  }
 },
 "nbformat": 4,
 "nbformat_minor": 1
}
