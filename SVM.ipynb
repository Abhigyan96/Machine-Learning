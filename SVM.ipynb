{
 "cells": [
  {
   "cell_type": "code",
   "execution_count": null,
   "metadata": {
    "colab": {
     "base_uri": "https://localhost:8080/",
     "height": 112
    },
    "id": "JFVBHRaIyPWY",
    "outputId": "7579d3a6-7b05-4e9e-f9ee-da5c446a1221"
   },
   "outputs": [],
   "source": [
    "import pandas as pd\n",
    "import numpy as np\n",
    "import matplotlib.pyplot as plt\n",
    "\n",
    "df = pd.read_csv(\"/content/ALL_DCF.csv\")\n",
    "df.head(2)"
   ]
  },
  {
   "cell_type": "code",
   "execution_count": null,
   "metadata": {
    "colab": {
     "base_uri": "https://localhost:8080/"
    },
    "id": "jyq5BqnoyhMr",
    "outputId": "25062069-e87b-4e38-daf9-6623f487113d"
   },
   "outputs": [],
   "source": [
    "X = df.drop('Output', axis=1)\n",
    "y = df['Output']\n",
    "\n",
    "print('Shape of X = ', X.shape)\n",
    "print('Shape of y = ', y.shape)"
   ]
  },
  {
   "cell_type": "code",
   "execution_count": null,
   "metadata": {
    "id": "mKB_TAUqyzjY"
   },
   "outputs": [],
   "source": [
    "score_1 = []\n",
    "for i in range(20000):\n",
    "  from sklearn.model_selection import train_test_split\n",
    "  X_train, X_test, y_train, y_test = train_test_split(X, y, test_size=0.2,random_state= i)\n",
    "\n",
    "  from sklearn.preprocessing import StandardScaler\n",
    "  sc = StandardScaler()\n",
    "  sc.fit(X_train)\n",
    "  X_train = sc.transform(X_train)\n",
    "  X_test = sc.transform(X_test)\n",
    "\n",
    "  from sklearn.svm import SVR\n",
    "  svr = SVR(kernel='linear')\n",
    "  svr.fit(X_train, y_train)\n",
    "  a = svr.score(X_test, y_test)\n",
    "  score_1.append(a)"
   ]
  },
  {
   "cell_type": "code",
   "execution_count": null,
   "metadata": {
    "colab": {
     "base_uri": "https://localhost:8080/"
    },
    "id": "WXnnzHB3y5m6",
    "outputId": "b84a73ec-bc5e-4e38-9929-75fed9bd5648"
   },
   "outputs": [],
   "source": [
    "print(\"X_test shape : \",X_test.shape,\"y_test shape : \",y_test.shape)"
   ]
  },
  {
   "cell_type": "code",
   "execution_count": null,
   "metadata": {
    "colab": {
     "base_uri": "https://localhost:8080/"
    },
    "id": "ZJILrvwj2a8c",
    "outputId": "5888bacb-857c-472a-e967-02d7a3783a83"
   },
   "outputs": [],
   "source": [
    "np.max(score_1)"
   ]
  },
  {
   "cell_type": "code",
   "execution_count": null,
   "metadata": {
    "colab": {
     "base_uri": "https://localhost:8080/"
    },
    "id": "ClEZJR232dzc",
    "outputId": "f195e7b3-8438-4727-ce53-fad321b3e806"
   },
   "outputs": [],
   "source": [
    "np.argmax(score_1)"
   ]
  },
  {
   "cell_type": "code",
   "execution_count": null,
   "metadata": {
    "colab": {
     "base_uri": "https://localhost:8080/",
     "height": 461
    },
    "id": "f_tchYHN2hlg",
    "outputId": "710cc085-8ccc-4068-bbaa-e265cd710582"
   },
   "outputs": [],
   "source": [
    "### Line of Regression for Testing Samples\n",
    "X_train,X_test,y_train,y_test = train_test_split(X,y,test_size=0.2, random_state = 9768)\n",
    "\n",
    "sc = StandardScaler()\n",
    "sc.fit(X_train)\n",
    "X_train = sc.transform(X_train)\n",
    "X_test = sc.transform(X_test)\n",
    "\n",
    "svr = SVR(kernel='linear')\n",
    "svr.fit(X_train, y_train)\n",
    "\n",
    "y_pred = svr.predict(X_test)\n",
    "\n",
    "Score_svr = svr.score(X_test, y_test)\n",
    "print(\"Score =\"+str(Score_svr))\n",
    "\n",
    "from sklearn.metrics import r2_score\n",
    "r2 = r2_score(y_test,y_pred)\n",
    "print(\"R2 =:\"+str(r2))\n",
    "\n",
    "from sklearn.metrics import mean_squared_error\n",
    "mse = mean_squared_error(y_test, y_pred)\n",
    "rmse = np.sqrt(mse)\n",
    "print('MSE = '+ str(mse))\n",
    "print('RMSE = '+ str(rmse))\n",
    "\n",
    "from sklearn.metrics import mean_absolute_error\n",
    "mae = mean_absolute_error(y_test, y_pred)\n",
    "print(\"MAE = \"+str(mae))\n",
    "\n",
    "y_pred = svr.predict(X_test)\n",
    "\n",
    "plt.figure(figsize=(10,6))\n",
    "plt.scatter(y_test,y_pred,color=\"Blue\",label=\"Predicted Data\",s=100)\n",
    "\n",
    "#find line of best fit\n",
    "a, b = np.polyfit(y_test, y_pred, 1)\n",
    "\n",
    "#add line of best fit to plot\n",
    "plt.plot(y_test, a*y_test+b, color ='r')\n",
    "\n",
    "plt.legend()\n",
    "plt.show()"
   ]
  }
 ],
 "metadata": {
  "colab": {
   "provenance": []
  },
  "kernelspec": {
   "display_name": "Python 3 (ipykernel)",
   "language": "python",
   "name": "python3"
  },
  "language_info": {
   "codemirror_mode": {
    "name": "ipython",
    "version": 3
   },
   "file_extension": ".py",
   "mimetype": "text/x-python",
   "name": "python",
   "nbconvert_exporter": "python",
   "pygments_lexer": "ipython3",
   "version": "3.9.13"
  }
 },
 "nbformat": 4,
 "nbformat_minor": 1
}
