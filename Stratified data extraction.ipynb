{
 "cells": [
  {
   "cell_type": "code",
   "execution_count": null,
   "id": "9973294f",
   "metadata": {},
   "outputs": [],
   "source": [
    "import pandas as pd\n",
    "\n",
    "def stratified_sampling(data_frame, column, n_samples):\n",
    "    \"\"\"\n",
    "    Perform stratified sampling on a DataFrame.\n",
    "\n",
    "    Parameters:\n",
    "        data_frame (pandas.DataFrame): The input DataFrame containing the data.\n",
    "        column (str): The column name to use for stratification.\n",
    "        n_samples (int): The number of samples to extract for each group.\n",
    "\n",
    "    Returns:\n",
    "        pandas.DataFrame: The stratified sample DataFrame.\n",
    "    \"\"\"\n",
    "    grouped = data_frame.groupby(column, group_keys=False)\n",
    "    sampled_df = grouped.apply(lambda x: x.sample(min(len(x), n_samples)))\n",
    "    return sampled_df\n",
    "\n",
    "# Replace 'input.csv' and 'output.csv' with your desired file names\n",
    "input_file = 'input.csv'\n",
    "output_file = 'output.csv'\n",
    "\n",
    "# Replace 'stratification_column' with the column you want to use for stratification\n",
    "stratification_column = 'stratification_column'\n",
    "\n",
    "# Replace 'n_samples_per_group' with the desired number of samples per group\n",
    "n_samples_per_group = 10\n",
    "\n",
    "# Read the CSV file into a DataFrame\n",
    "data = pd.read_csv(input_file)\n",
    "\n",
    "# Perform stratified sampling\n",
    "stratified_sample = stratified_sampling(data, stratification_column, n_samples_per_group)\n",
    "\n",
    "# Save the stratified sample to a new CSV file\n",
    "stratified_sample.to_csv(output_file, index=False)"
   ]
  }
 ],
 "metadata": {
  "kernelspec": {
   "display_name": "Python 3 (ipykernel)",
   "language": "python",
   "name": "python3"
  },
  "language_info": {
   "codemirror_mode": {
    "name": "ipython",
    "version": 3
   },
   "file_extension": ".py",
   "mimetype": "text/x-python",
   "name": "python",
   "nbconvert_exporter": "python",
   "pygments_lexer": "ipython3",
   "version": "3.9.13"
  }
 },
 "nbformat": 4,
 "nbformat_minor": 5
}
